{
 "cells": [
  {
   "cell_type": "markdown",
   "metadata": {},
   "source": [
    "# Model Sizes"
   ]
  },
  {
   "cell_type": "code",
   "execution_count": 3,
   "metadata": {},
   "outputs": [],
   "source": [
    "from transformers import AutoConfig, AutoModelForMaskedLM"
   ]
  },
  {
   "cell_type": "code",
   "execution_count": 6,
   "metadata": {},
   "outputs": [],
   "source": [
    "def print_model_size(name):\n",
    "  config = AutoConfig.from_pretrained(\n",
    "    name,\n",
    "    vocab_size=32_000,\n",
    "  )\n",
    "  model = AutoModelForMaskedLM.from_config(config)\n",
    "\n",
    "  model_size = sum(t.numel() for t in model.parameters())\n",
    "  print(f\"Model size ({name}): {model_size/1000**2:.1f}M parameters\")"
   ]
  },
  {
   "cell_type": "code",
   "execution_count": 10,
   "metadata": {},
   "outputs": [
    {
     "name": "stdout",
     "output_type": "stream",
     "text": [
      "Model size (bert-base-uncased): 110.7M parameters\n",
      "Model size (distilbert/distilbert-base-uncased): 68.1M parameters\n",
      "Model size (google/mobilebert-uncased): 37.4M parameters\n",
      "Model size (prajjwal1/bert-tiny): 4.6M parameters\n"
     ]
    }
   ],
   "source": [
    "print_model_size(\"bert-base-uncased\")\n",
    "print_model_size(\"distilbert/distilbert-base-uncased\")\n",
    "print_model_size(\"google/mobilebert-uncased\")\n",
    "print_model_size(\"prajjwal1/bert-tiny\")"
   ]
  },
  {
   "cell_type": "code",
   "execution_count": null,
   "metadata": {},
   "outputs": [],
   "source": []
  }
 ],
 "metadata": {
  "kernelspec": {
   "display_name": "paper-classification-0x3sE5oq",
   "language": "python",
   "name": "python3"
  },
  "language_info": {
   "codemirror_mode": {
    "name": "ipython",
    "version": 3
   },
   "file_extension": ".py",
   "mimetype": "text/x-python",
   "name": "python",
   "nbconvert_exporter": "python",
   "pygments_lexer": "ipython3",
   "version": "3.12.1"
  }
 },
 "nbformat": 4,
 "nbformat_minor": 2
}
