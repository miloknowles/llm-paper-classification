{
 "cells": [
  {
   "cell_type": "markdown",
   "metadata": {},
   "source": [
    "# Finetuning Dataset\n",
    "\n",
    "The funetuning dataset has a relatively small fraction (~10%) of positive examples. This leads to some training batches with only negative examples, as well as a loss function that prioritizes getting the negative examples right. As a simply strategy, we duplicate positive entries in the training set until the classes are balanced."
   ]
  },
  {
   "cell_type": "code",
   "execution_count": null,
   "metadata": {},
   "outputs": [],
   "source": [
    "from datasets import load_dataset, concatenate_datasets\n",
    "import sys; sys.path.append(\"..\")\n",
    "from classifier.paths import data_folder\n",
    "\n",
    "dataset = load_dataset(\"json\", data_files={\n",
    "  \"train\": str(data_folder / \"finetuning\" / \"train.jsonl\"),\n",
    "})"
   ]
  },
  {
   "cell_type": "code",
   "execution_count": null,
   "metadata": {},
   "outputs": [],
   "source": [
    "true_examples = dataset[\"train\"].filter(lambda x: x[\"label\"] == \"True\")\n",
    "false_examples = dataset[\"train\"].filter(lambda x: x[\"label\"] == \"False\")\n",
    "\n",
    "print(f\"The training dataset has {len(true_examples)} TRUE and {len(false_examples)} FALSE examples\")"
   ]
  },
  {
   "cell_type": "code",
   "execution_count": null,
   "metadata": {},
   "outputs": [],
   "source": [
    "# True duplicating the true examples to have equal frequency.\n",
    "augmented = true_examples.shuffle(seed=42)\n",
    "\n",
    "for _ in range(len(false_examples) // len(true_examples)):\n",
    "  augmented = concatenate_datasets([augmented, true_examples.shuffle(seed=42)])"
   ]
  },
  {
   "cell_type": "code",
   "execution_count": null,
   "metadata": {},
   "outputs": [],
   "source": [
    "augmented = concatenate_datasets([augmented, false_examples]).shuffle(seed=42)\n",
    "augmented.to_json(data_folder / \"finetuning\" / \"augmented_train.jsonl\")"
   ]
  },
  {
   "cell_type": "markdown",
   "metadata": {},
   "source": []
  }
 ],
 "metadata": {
  "kernelspec": {
   "display_name": "paper-classification-0x3sE5oq",
   "language": "python",
   "name": "python3"
  },
  "language_info": {
   "name": "python",
   "version": "3.12.1"
  }
 },
 "nbformat": 4,
 "nbformat_minor": 2
}
