{
 "cells": [
  {
   "cell_type": "markdown",
   "metadata": {},
   "source": [
    "# Exploring the arXiv Dataset\n",
    "\n",
    "This notebook is used to generate a **pre-training train/test/validation split.**\n",
    "\n",
    "The format expected by HuggingFace looks like:\n",
    "```python\n",
    "DatasetDict({\n",
    "    train: Dataset({\n",
    "        features: ['label', 'text'],\n",
    "        num_rows: 650000\n",
    "    })\n",
    "    test: Dataset({\n",
    "        features: ['label', 'text'],\n",
    "        num_rows: 50000\n",
    "    })\n",
    "})\n",
    "```"
   ]
  },
  {
   "cell_type": "code",
   "execution_count": null,
   "metadata": {},
   "outputs": [],
   "source": [
    "import sys; sys.path.append('..')\n",
    "import json\n",
    "from tqdm import tqdm\n",
    "import torch\n",
    "from sklearn.model_selection import train_test_split\n",
    "\n",
    "from classifier.paths import data_folder"
   ]
  },
  {
   "cell_type": "markdown",
   "metadata": {},
   "source": [
    "## What does the data look like?"
   ]
  },
  {
   "cell_type": "code",
   "execution_count": null,
   "metadata": {},
   "outputs": [],
   "source": [
    "blob = data_folder / \"arxiv-metadata-oai-snapshot.jsonl\"\n",
    "\n",
    "example1 = None\n",
    "with open(blob, 'r') as f:\n",
    "  for line in f:\n",
    "    example1 = json.loads(line)\n",
    "    break"
   ]
  },
  {
   "cell_type": "code",
   "execution_count": null,
   "metadata": {},
   "outputs": [],
   "source": [
    "example1"
   ]
  },
  {
   "cell_type": "markdown",
   "metadata": {},
   "source": [
    "## Pre-Training: Train/Test Split\n",
    "\n",
    "- Total of `2,426,574` examples in the dataset\n",
    "- Use 10% for testing\n",
    "- Use 20% of the training dataset for validation"
   ]
  },
  {
   "cell_type": "code",
   "execution_count": null,
   "metadata": {},
   "outputs": [],
   "source": [
    "blob = data_folder / \"arxiv-metadata-oai-snapshot.jsonl\"\n",
    "\n",
    "# Read one line at a time to avoid loading the whole thing into memory.\n",
    "num_lines = 0\n",
    "with open(blob, 'r') as f:\n",
    "  for line in tqdm(f):\n",
    "    num_lines += 1\n",
    "\n",
    "print(f\"There are {num_lines} examples in the full arXiv dataset\")"
   ]
  },
  {
   "cell_type": "code",
   "execution_count": null,
   "metadata": {},
   "outputs": [],
   "source": [
    "print(\"Splitting the dataset\")\n",
    "\n",
    "TEST_SET_FRACTION = 0.1\n",
    "VAL_SET_FRACTION = 0.1\n",
    "\n",
    "train_idx, test_idx = train_test_split(torch.arange(0, num_lines), test_size=TEST_SET_FRACTION, random_state=42)\n",
    "print(\"Training size:\", len(train_idx))\n",
    "print(\"Testing size:\", len(test_idx))\n",
    "\n",
    "train_idx, val_idx = train_test_split(train_idx, test_size=VAL_SET_FRACTION, random_state=42)\n",
    "print(\"Validation size:\", len(val_idx))\n",
    "\n",
    "train_idx, val_idx, test_idx = set(train_idx.tolist()), set(val_idx.tolist()), set(test_idx.tolist())\n",
    "\n",
    "train_data = []\n",
    "val_data = []\n",
    "test_data = []\n",
    "\n",
    "print(\"Iterating through the dataset (slow)\")\n",
    "with open(blob, 'r') as f:\n",
    "  for i, line in tqdm(enumerate(f), total=num_lines):\n",
    "    data = json.loads(line)\n",
    "    if i in train_idx:\n",
    "      train_data.append(data)\n",
    "    elif i in val_idx:\n",
    "      val_data.append(data)\n",
    "    elif i in test_idx:\n",
    "      test_data.append(data)\n",
    "\n",
    "print(\"DONE\")\n",
    "\n",
    "for split in [\"train\", \"val\", \"test\"]:\n",
    "  print(f\"Writing dataset split for '{split}'\")\n",
    "  with open(data_folder / \"pretraining\" / f\"{split}.jsonl\", 'w') as f:\n",
    "    if split == \"train\":\n",
    "      for example in train_data:\n",
    "        f.write(json.dumps(example) + \"\\n\")\n",
    "    elif split == \"val\":\n",
    "      for example in val_data:\n",
    "        f.write(json.dumps(example) + \"\\n\")\n",
    "    elif split == \"test\":\n",
    "      for example in test_data:\n",
    "        f.write(json.dumps(example) + \"\\n\")\n",
    "\n",
    "print(\"DONE\")"
   ]
  },
  {
   "cell_type": "markdown",
   "metadata": {},
   "source": [
    "## Iterable Dataset\n",
    "\n",
    "https://huggingface.co/docs/datasets/en/create_iterable_dataset"
   ]
  },
  {
   "cell_type": "code",
   "execution_count": null,
   "metadata": {},
   "outputs": [],
   "source": [
    "from datasets import IterableDataset\n",
    "\n",
    "data_path = data_folder / \"arxiv-metadata-oai-snapshot.jsonl\"\n",
    "\n",
    "def gen():\n",
    "  with open(data_path, 'r') as f:\n",
    "    for line in f:\n",
    "      yield json.loads(line)\n",
    "\n",
    "\n",
    "ds = IterableDataset.from_generator(gen)\n",
    "for example in ds:\n",
    "  print(example)\n",
    "  break"
   ]
  },
  {
   "cell_type": "markdown",
   "metadata": {},
   "source": [
    "## Test Custom Dataset Iterator"
   ]
  },
  {
   "cell_type": "code",
   "execution_count": 1,
   "metadata": {},
   "outputs": [],
   "source": [
    "import sys; sys.path.append(\"..\")\n",
    "from classifier.arxiv_dataset import load_dataset_splits\n",
    "from classifier.paths import data_folder\n",
    "\n",
    "from transformers import AutoModelForSequenceClassification, AutoTokenizer"
   ]
  },
  {
   "cell_type": "code",
   "execution_count": null,
   "metadata": {},
   "outputs": [],
   "source": [
    "dd = load_dataset_splits(\n",
    "  data_folder / \"finetuning\" / \"train.jsonl\",\n",
    "  data_folder / \"finetuning\" / \"val.jsonl\",\n",
    "  data_folder / \"finetuning\" / \"test.jsonl\"\n",
    ")"
   ]
  },
  {
   "cell_type": "code",
   "execution_count": 6,
   "metadata": {},
   "outputs": [
    {
     "data": {
      "application/vnd.jupyter.widget-view+json": {
       "model_id": "77841a2510bb43b0906566e9842d3bff",
       "version_major": 2,
       "version_minor": 0
      },
      "text/plain": [
       "Generating train split: 0 examples [00:00, ? examples/s]"
      ]
     },
     "metadata": {},
     "output_type": "display_data"
    },
    {
     "data": {
      "application/vnd.jupyter.widget-view+json": {
       "model_id": "455a76976bb94ebe99498e227c4659eb",
       "version_major": 2,
       "version_minor": 0
      },
      "text/plain": [
       "Generating val split: 0 examples [00:00, ? examples/s]"
      ]
     },
     "metadata": {},
     "output_type": "display_data"
    }
   ],
   "source": [
    "# Alternatively:\n",
    "from datasets import load_dataset\n",
    "# dd = load_dataset(\"json\", data_files={\n",
    "#   \"train\": str(data_folder / \"finetuning\" / \"train.jsonl\"),\n",
    "#   \"val\": str(data_folder / \"finetuning\" / \"val.jsonl\"),\n",
    "#   # \"test\": str(data_folder / \"finetuning\" / \"test.jsonl\")\n",
    "# })\n",
    "\n",
    "dd = load_dataset(\"json\", data_files={\n",
    "  \"train\": str(data_folder / \"pretraining\" / \"train.jsonl\"),\n",
    "  \"val\": str(data_folder / \"pretraining\" / \"val.jsonl\"),\n",
    "  \"test\": str(data_folder / \"pretraining\" / \"test.jsonl\")\n",
    "}).select_columns([\"title\", \"abstract\"])"
   ]
  },
  {
   "cell_type": "code",
   "execution_count": null,
   "metadata": {},
   "outputs": [],
   "source": [
    "for split in [\"train\", \"val\"]:\n",
    "  print(f\"\\nChecking dataset split '{split}'\")\n",
    "  num_true = 0\n",
    "  num_false = 0\n",
    "  for i, data in enumerate(dd[split]):\n",
    "    if data['label'] == 'True':\n",
    "      num_true += 1\n",
    "    else:\n",
    "      num_false += 1\n",
    "\n",
    "  print(f\"Percent True: {100 * num_true / (num_true + num_false):.2f}\")\n",
    "  print(f\"Percent False: {100 * num_false / (num_true + num_false):.2f}\")"
   ]
  },
  {
   "cell_type": "code",
   "execution_count": null,
   "metadata": {},
   "outputs": [],
   "source": [
    "num_labels = 2\n",
    "num_train_epochs = 10\n",
    "model_name = 'albert-base-v2'\n",
    "run_name = \"debugging\"\n",
    "\n",
    "id2label = {0: \"False\", 1: \"True\"}\n",
    "label2id = {\"False\": 0, \"True\": 1}\n",
    "\n",
    "tokenizer = AutoTokenizer.from_pretrained(model_name)\n",
    "\n",
    "dataset = load_dataset_splits(\n",
    "  data_folder / \"finetuning\" / \"train.jsonl\",\n",
    "  data_folder / \"finetuning\" / \"val.jsonl\",\n",
    "  data_folder / \"finetuning\" / \"test.jsonl\",\n",
    ")\n",
    "\n",
    "def convert_labels(examples: dict[str, list[int | str]]):\n",
    "  \"\"\"Convert the `label` field to a numeric value (it's \"True\" or \"False\" in the raw data).\"\"\"\n",
    "  return {\"label\": [{\"True\": 1, \"False\": 0}[label] for label in examples[\"label\"]]}\n",
    "\n",
    "def tokenize(examples: dict[str, list[int | str]]):\n",
    "  \"\"\"Tokenize the `text` field of all examples.\"\"\"\n",
    "  return tokenizer(examples[\"text\"], padding=\"max_length\", truncation=True)\n",
    "\n",
    "dataset = dataset.map(convert_labels, batched=True)\n",
    "dataset = dataset.map(tokenize, batched=True)"
   ]
  },
  {
   "cell_type": "code",
   "execution_count": null,
   "metadata": {},
   "outputs": [],
   "source": [
    "for i, example in enumerate(dataset['train']):\n",
    "  print(example)\n",
    "  \n",
    "  if i > 100:\n",
    "    break"
   ]
  },
  {
   "cell_type": "code",
   "execution_count": null,
   "metadata": {},
   "outputs": [],
   "source": []
  }
 ],
 "metadata": {
  "kernelspec": {
   "display_name": "paper-classification-0x3sE5oq",
   "language": "python",
   "name": "python3"
  },
  "language_info": {
   "codemirror_mode": {
    "name": "ipython",
    "version": 3
   },
   "file_extension": ".py",
   "mimetype": "text/x-python",
   "name": "python",
   "nbconvert_exporter": "python",
   "pygments_lexer": "ipython3",
   "version": "3.12.1"
  }
 },
 "nbformat": 4,
 "nbformat_minor": 2
}
